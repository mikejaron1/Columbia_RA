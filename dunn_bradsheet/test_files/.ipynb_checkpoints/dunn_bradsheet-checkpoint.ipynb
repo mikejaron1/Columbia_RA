{
 "cells": [
  {
   "cell_type": "code",
   "execution_count": 2,
   "metadata": {
    "collapsed": true
   },
   "outputs": [],
   "source": [
    "import os\n",
    "import pandas as pd\n",
    "import re\n",
    "import csv"
   ]
  },
  {
   "cell_type": "code",
   "execution_count": 2,
   "metadata": {
    "collapsed": false
   },
   "outputs": [
    {
     "data": {
      "text/plain": [
       "'\\nAlso just as a preliminary note, we are going to want to get the data on SIC codes and sales. \\nThen we want to compute do state x year x industry herfindahl indexes.\\n\\nProb start running code on text lab using jupyter qtconsole\\nfind which years are wrong then see how wrong they are\\ncreate master list of all companies... is the name the same? the dunns # uniques? etc.\\nfind some fuzzy name matching and address to compustat data\\n-- maybe find more extensive codebook\\n'"
      ]
     },
     "execution_count": 2,
     "metadata": {},
     "output_type": "execute_result"
    }
   ],
   "source": [
    "'''\n",
    "Also just as a preliminary note, we are going to want to get the data on SIC codes and sales. \n",
    "Then we want to compute do state x year x industry herfindahl indexes.\n",
    "\n",
    "Prob start running code on text lab using jupyter qtconsole\n",
    "find which years are wrong then see how wrong they are\n",
    "create master list of all companies... is the name the same? the dunns # uniques? etc.\n",
    "find some fuzzy name matching and address to compustat data\n",
    "-- maybe find more extensive codebook\n",
    "'''"
   ]
  },
  {
   "cell_type": "code",
   "execution_count": 5,
   "metadata": {
    "collapsed": false
   },
   "outputs": [
    {
     "name": "stdout",
     "output_type": "stream",
     "text": [
      "   START  END  LENGTH Unnamed: 3 FIELD DESCRIPTION Unnamed: 5\n",
      "0      1    9       9       DUNS      DUN'S NUMBER        NaN\n",
      "1     10   39      30      DCOMP     BUSINESS NAME        NaN\n",
      "2     40   69      30     DTRADE  SECONDARY NAME -        NaN\n",
      "3     70   94      25    DSTREET    STREET ADDRESS        NaN\n",
      "4     95  114      20      DCITY              CITY        NaN\n"
     ]
    }
   ],
   "source": [
    "# directory = '/Users/mjaron/Desktop/RA/'\n",
    "\n",
    "# text_layot = pd.read_csv(directory+'HISTORICAL Layout 560.csv')\n",
    "text_layot = pd.read_excel('HISTORICAL Layout 560.xls', skiprows=1)\n",
    "print text_layot.head()"
   ]
  },
  {
   "cell_type": "code",
   "execution_count": null,
   "metadata": {
    "collapsed": false
   },
   "outputs": [],
   "source": []
  },
  {
   "cell_type": "code",
   "execution_count": 7,
   "metadata": {
    "collapsed": false
   },
   "outputs": [
    {
     "ename": "AttributeError",
     "evalue": "'module' object has no attribute 'cwd'",
     "output_type": "error",
     "traceback": [
      "\u001b[0;31m---------------------------------------------------------------------------\u001b[0m",
      "\u001b[0;31mAttributeError\u001b[0m                            Traceback (most recent call last)",
      "\u001b[0;32m<ipython-input-7-1a8562baed3e>\u001b[0m in \u001b[0;36m<module>\u001b[0;34m()\u001b[0m\n\u001b[0;32m----> 1\u001b[0;31m \u001b[0;32mfor\u001b[0m \u001b[0mfile_name\u001b[0m \u001b[0;32min\u001b[0m \u001b[0mos\u001b[0m\u001b[0;34m.\u001b[0m\u001b[0mlistdir\u001b[0m\u001b[0;34m(\u001b[0m\u001b[0mos\u001b[0m\u001b[0;34m.\u001b[0m\u001b[0mcwd\u001b[0m\u001b[0;34m(\u001b[0m\u001b[0;34m)\u001b[0m\u001b[0;34m)\u001b[0m\u001b[0;34m:\u001b[0m\u001b[0;34m\u001b[0m\u001b[0m\n\u001b[0m\u001b[1;32m      2\u001b[0m     \u001b[0;32mif\u001b[0m \u001b[0;34m'.TXT'\u001b[0m \u001b[0;32min\u001b[0m \u001b[0mfile_name\u001b[0m \u001b[0;32mand\u001b[0m \u001b[0;34m'2015'\u001b[0m \u001b[0;32min\u001b[0m \u001b[0mfile_name\u001b[0m\u001b[0;34m:\u001b[0m  \u001b[0;31m## to select a specific one\u001b[0m\u001b[0;34m\u001b[0m\u001b[0m\n\u001b[1;32m      3\u001b[0m \u001b[0;31m#     if '.TXT' in file_name: ## any one\u001b[0m\u001b[0;34m\u001b[0m\u001b[0;34m\u001b[0m\u001b[0m\n\u001b[1;32m      4\u001b[0m         \u001b[0;32mprint\u001b[0m \u001b[0mfile_name\u001b[0m\u001b[0;34m\u001b[0m\u001b[0m\n\u001b[1;32m      5\u001b[0m \u001b[0;31m#         file1 = open(directory+file_name)\u001b[0m\u001b[0;34m\u001b[0m\u001b[0;34m\u001b[0m\u001b[0m\n",
      "\u001b[0;31mAttributeError\u001b[0m: 'module' object has no attribute 'cwd'"
     ]
    }
   ],
   "source": [
    "for file_name in os.listdir(os.cwd()):\n",
    "    if '.TXT' in file_name and '2015' in file_name:  ## to select a specific one\n",
    "#     if '.TXT' in file_name: ## any one\n",
    "        print file_name\n",
    "#         file1 = open(directory+file_name)\n",
    "#         file1 = file1.readlines()\n",
    "#         print len(file1)\n",
    "        break"
   ]
  },
  {
   "cell_type": "code",
   "execution_count": null,
   "metadata": {
    "collapsed": true
   },
   "outputs": [],
   "source": [
    "\n",
    "    "
   ]
  },
  {
   "cell_type": "code",
   "execution_count": 43,
   "metadata": {
    "collapsed": false
   },
   "outputs": [],
   "source": [
    "def clean_files_and_detect_bad_files(file1, year):\n",
    "    new_dict = {}\n",
    "    for count, i in enumerate(file1):\n",
    "        print count\n",
    "        if count >= 5:\n",
    "            break\n",
    "        for count, field in enumerate(text_layot['FIELD DESCRIPTION']):\n",
    "            temp = i[text_layot['START'][count]-1:text_layot['END'][count]]\n",
    "            \n",
    "            ## set this up to try to decipher which files are not in line with the excel sheet\n",
    "            ## business name is the second field and should just be characters\n",
    "            ## it seems the corrupt files have longer dun #'s that run into the name\n",
    "            ## I am just checking the first line b/c all of the lines should be same\n",
    "            if field == \"BUSINESS NAME\":\n",
    "                r = re.compile(\"([0-9]+)\")\n",
    "                m = r.match(temp)\n",
    "                try:\n",
    "                    test = m.group(1)\n",
    "                    new_dict[field] = temp[len(test)+1:]\n",
    "                    company_name = temp[len(test)+1:]\n",
    "                    broken_file = file_name\n",
    "                except:\n",
    "                    new_dict[field] = temp\n",
    "                    company_name = temp\n",
    "                    broken_file = 'na'\n",
    "                \n",
    "                ## stop looping through all of the variables and stop at business name\n",
    "                break\n",
    "            \n",
    "#             else:\n",
    "#                 new_dict[field] = temp\n",
    "\n",
    "        with open(directory+'company_names.csv', 'a') as f:\n",
    "            writer = csv.writer(f)\n",
    "            writer.writerow([company_name, year])\n",
    "            \n",
    "    return new_dict, broken_file\n"
   ]
  },
  {
   "cell_type": "code",
   "execution_count": 44,
   "metadata": {
    "collapsed": false,
    "scrolled": true
   },
   "outputs": [
    {
     "name": "stdout",
     "output_type": "stream",
     "text": [
      "here\n",
      "0\n",
      "1\n",
      "2\n",
      "3\n",
      "4\n",
      "5\n",
      "here\n",
      "0\n",
      "1\n",
      "2\n",
      "3\n",
      "4\n",
      "5\n",
      "here\n",
      "0\n",
      "1\n",
      "2\n",
      "3\n",
      "4\n",
      "5\n",
      "here\n",
      "0\n",
      "1\n",
      "2\n",
      "3\n",
      "4\n",
      "5\n",
      "here\n",
      "0\n",
      "1\n",
      "2\n",
      "3\n",
      "4\n",
      "5\n",
      "here\n",
      "0\n",
      "1\n",
      "2\n",
      "3\n",
      "4\n",
      "5\n",
      "here\n",
      "0\n",
      "1\n",
      "2\n",
      "3\n",
      "4\n",
      "5\n",
      "here\n",
      "0\n",
      "1\n",
      "2\n",
      "3\n",
      "4\n",
      "5\n",
      "here\n",
      "0\n",
      "1\n",
      "2\n",
      "3\n",
      "4\n",
      "5\n"
     ]
    }
   ],
   "source": [
    "with open(directory+'company_names.csv', 'w') as f:\n",
    "    writer = csv.writer(f)\n",
    "    writer.writerow(['company_name', 'year'])\n",
    "    \n",
    "broken_files = []\n",
    "master_dict = {}\n",
    "for file_name in os.listdir(directory):\n",
    "    if '.TXT' in file_name:\n",
    "#         print file_name\n",
    "        year = file_name[file_name.find('DMI.')+4:file_name.find('.TXT')]\n",
    "        file1 = open(directory+file_name)\n",
    "#         file1 = file1.readlines()\n",
    "        print \"here\"\n",
    "        new_dict, broken_file = clean_files_and_detect_bad_files(file1, year)\n",
    "        if broken_file != 'na':\n",
    "            broken_files.append(broken_file)\n",
    "#         master_dict[year] = new_dict\n",
    "        df = pd.DataFrame({'broken_files': broken_files})\n",
    "        df.to_csv('broken_files.csv', index = False) \n",
    "#         break\n"
   ]
  },
  {
   "cell_type": "code",
   "execution_count": 25,
   "metadata": {
    "collapsed": false
   },
   "outputs": [
    {
     "name": "stdout",
     "output_type": "stream",
     "text": [
      "['1972']\n",
      "{\"DUN'S NUMBER\": '001000009', 'BUSINESS NAME': ' CARLSONS MILLS IN'}\n",
      "['MGNTFIS3.BA980LLT.DMI.1972.TXT']\n"
     ]
    }
   ],
   "source": [
    "print master_dict.keys()\n",
    "print master_dict['1972']\n",
    "print broken_files"
   ]
  },
  {
   "cell_type": "code",
   "execution_count": 55,
   "metadata": {
    "collapsed": false
   },
   "outputs": [
    {
     "name": "stdout",
     "output_type": "stream",
     "text": [
      "{\"DUN'S NUMBER\": '001000009'}\n",
      "{\"DUN'S NUMBER\": '001000009'}\n",
      "{\"DUN'S NUMBER\": '001000009'}\n"
     ]
    }
   ],
   "source": [
    "### get master list of business names\n",
    "duns_numb = []\n",
    "name = []\n",
    "for i in master_dict.keys():\n",
    "    duns_numb.append(master_dict[i][\"DUN'S NUMBER\"])\n",
    "    name.append(master_dict[i][\"BUSINESS NAME\"])\n",
    "    \n",
    "df = pd.DataFrame()\n",
    "df['duns_number'] = duns_numb\n",
    "df['name'] = name"
   ]
  },
  {
   "cell_type": "code",
   "execution_count": null,
   "metadata": {
    "collapsed": true
   },
   "outputs": [],
   "source": []
  }
 ],
 "metadata": {
  "anaconda-cloud": {},
  "kernelspec": {
   "display_name": "Python [Root]",
   "language": "python",
   "name": "Python [Root]"
  },
  "language_info": {
   "codemirror_mode": {
    "name": "ipython",
    "version": 2
   },
   "file_extension": ".py",
   "mimetype": "text/x-python",
   "name": "python",
   "nbconvert_exporter": "python",
   "pygments_lexer": "ipython2",
   "version": "2.7.12"
  }
 },
 "nbformat": 4,
 "nbformat_minor": 0
}
